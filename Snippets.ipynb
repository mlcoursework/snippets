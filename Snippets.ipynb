{
 "cells": [
  {
   "cell_type": "code",
   "execution_count": 1,
   "metadata": {
    "collapsed": true
   },
   "outputs": [],
   "source": [
    "import pandas as pd\n",
    "import numpy as np\n",
    "\n",
    "import seaborn as sns\n",
    "import matplotlib.pyplot as plt\n",
    "%matplotlib inline"
   ]
  },
  {
   "cell_type": "markdown",
   "metadata": {},
   "source": [
    "### Table of Contents\n",
    "+ [Flexible Arguments: *args and \\**kwargs](#Flexible-Arguments:-*args-and-**kwargs)\n",
    "+ Placeholder\n",
    "+ Placeholder\n",
    "+ Placeholder\n",
    "+ Placeholder"
   ]
  },
  {
   "cell_type": "code",
   "execution_count": 2,
   "metadata": {
    "scrolled": true
   },
   "outputs": [
    {
     "name": "stdout",
     "output_type": "stream",
     "text": [
      "0.5033\n"
     ]
    }
   ],
   "source": [
    "# Coin flip simulation\n",
    "# source: https://www.reddit.com/r/learnpython/comments/71qrzv/simulating_probability_with_nprandomrandom/dncpukj/?st=j8020wir&sh=f0adc5c7\n",
    "\n",
    "n_experiments = 10000\n",
    "count = sum(np.random.choice([True, False]) for _ in range(n_experiments))\n",
    "\n",
    "print count/float(n_experiments)"
   ]
  },
  {
   "cell_type": "markdown",
   "metadata": {},
   "source": [
    "---\n",
    "### How to use *args and **kwargs in Python\n",
    "\n",
    "Source: https://www.saltycrane.com/blog/2008/01/how-to-use-args-and-kwargs-in-python/\n",
    "\n",
    "The special syntax, \\*args and \\*\\*kwargs in function definitions is used to pass a variable number of arguments to a function. The single asterisk form (\\*args) is used to pass a non-keyworded, variable-length argument list, and the double asterisk form is used to pass a keyworded, variable-length argument list. "
   ]
  },
  {
   "cell_type": "markdown",
   "metadata": {},
   "source": [
    "---\n",
    "### Flexible Arguments: \\*args and \\*\\*kwargs"
   ]
  },
  {
   "cell_type": "code",
   "execution_count": 6,
   "metadata": {},
   "outputs": [
    {
     "name": "stdout",
     "output_type": "stream",
     "text": [
      "<type 'tuple'>\n",
      "20\n"
     ]
    }
   ],
   "source": [
    "# *args\n",
    "# Note that within the function, args is treated as a tuple\n",
    "\n",
    "def sum_all(*args):\n",
    "    print type(args)\n",
    "    \n",
    "    tot = 0\n",
    "    for num in args:\n",
    "        tot += num\n",
    "        \n",
    "    return tot\n",
    "\n",
    "print sum_all(1,3,5,6,3,2)"
   ]
  },
  {
   "cell_type": "code",
   "execution_count": 7,
   "metadata": {},
   "outputs": [
    {
     "name": "stdout",
     "output_type": "stream",
     "text": [
      "<type 'dict'>\n",
      "name2 : Sarah Connor\n",
      "name1 : John Connor\n"
     ]
    }
   ],
   "source": [
    "# kwargs = keyworded arguments. So there's a keyword passed in the function, ilke name='John Connor'.\n",
    "# The ** turns the keyword and value pairs passed to a dictionary within the function body\n",
    "# Again, within the function definition, kwargs is a dictionary.\n",
    "\n",
    "def print_all(**kwargs):\n",
    "    print type(kwargs)\n",
    "    \n",
    "    for k, v in kwargs.items():\n",
    "        print k, \":\", v\n",
    "        \n",
    "print_all(name1='John Connor', name2='Sarah Connor')"
   ]
  },
  {
   "cell_type": "markdown",
   "metadata": {},
   "source": [
    "---\n",
    "### Lambda Functions"
   ]
  },
  {
   "cell_type": "code",
   "execution_count": 8,
   "metadata": {},
   "outputs": [
    {
     "data": {
      "text/plain": [
       "9"
      ]
     },
     "execution_count": 8,
     "metadata": {},
     "output_type": "execute_result"
    }
   ],
   "source": [
    "power = lambda x,y: x**y\n",
    "\n",
    "power(3,2)"
   ]
  },
  {
   "cell_type": "markdown",
   "metadata": {
    "collapsed": true
   },
   "source": [
    "---\n",
    "### Merging Dicts"
   ]
  },
  {
   "cell_type": "code",
   "execution_count": 1,
   "metadata": {},
   "outputs": [
    {
     "data": {
      "text/plain": [
       "{'a': 1, 'b': 3, 'd': 0}"
      ]
     },
     "execution_count": 1,
     "metadata": {},
     "output_type": "execute_result"
    }
   ],
   "source": [
    "da = {\"a\":1, \"b\":2}\n",
    "db = {\"b\":3, \"d\":0}\n",
    "\n",
    "merged = {}\n",
    "\n",
    "# Notice b's value\n",
    "merged.update(da)\n",
    "merged.update(db)\n",
    "\n",
    "merged"
   ]
  },
  {
   "cell_type": "code",
   "execution_count": 2,
   "metadata": {},
   "outputs": [
    {
     "data": {
      "text/plain": [
       "{'a': 1, 'b': 2, 'd': 0}"
      ]
     },
     "execution_count": 2,
     "metadata": {},
     "output_type": "execute_result"
    }
   ],
   "source": [
    "# Notice b's value\n",
    "\n",
    "merged = {}\n",
    "\n",
    "merged.update(db)\n",
    "merged.update(da)\n",
    "\n",
    "merged"
   ]
  },
  {
   "cell_type": "markdown",
   "metadata": {},
   "source": [
    "---\n",
    "### map, filter, reduce\n",
    "\n",
    "#### map()\n",
    "\n",
    "Takes two arguments: map(func, sequence)<br>\n",
    "applies the function to every item in the sequence."
   ]
  },
  {
   "cell_type": "code",
   "execution_count": 13,
   "metadata": {},
   "outputs": [
    {
     "data": {
      "text/plain": [
       "[0, 1, 4, 9, 16]"
      ]
     },
     "execution_count": 13,
     "metadata": {},
     "output_type": "execute_result"
    }
   ],
   "source": [
    "nums = range(5)\n",
    "\n",
    "square_all = map(lambda x: x**2, nums)\n",
    "\n",
    "square_all"
   ]
  },
  {
   "cell_type": "markdown",
   "metadata": {},
   "source": [
    "#### filter()\n",
    "The filter() function filters out items from a list that don't meet certain criteria."
   ]
  },
  {
   "cell_type": "code",
   "execution_count": 24,
   "metadata": {},
   "outputs": [
    {
     "data": {
      "text/plain": [
       "[0, 2, 4, 6, 8]"
      ]
     },
     "execution_count": 24,
     "metadata": {},
     "output_type": "execute_result"
    }
   ],
   "source": [
    "l = range(10)\n",
    "\n",
    "evens_only = filter(lambda x: x%2==0, l)\n",
    "\n",
    "evens_only"
   ]
  },
  {
   "cell_type": "markdown",
   "metadata": {},
   "source": [
    "#### reduce()\n",
    "Performs some calculation on a list and returns a single value.<br>\n",
    "needs to be imported from _functools_."
   ]
  },
  {
   "cell_type": "code",
   "execution_count": 27,
   "metadata": {},
   "outputs": [
    {
     "name": "stdout",
     "output_type": "stream",
     "text": [
      "45\n"
     ]
    },
    {
     "data": {
      "text/plain": [
       "True"
      ]
     },
     "execution_count": 27,
     "metadata": {},
     "output_type": "execute_result"
    }
   ],
   "source": [
    "from functools import reduce\n",
    "\n",
    "nums = range(10)\n",
    "\n",
    "tot = reduce(lambda x,y: x+y, nums)\n",
    "\n",
    "print tot\n",
    "tot == sum(nums)"
   ]
  },
  {
   "cell_type": "markdown",
   "metadata": {},
   "source": [
    "---\n",
    "### Error Handling"
   ]
  },
  {
   "cell_type": "code",
   "execution_count": 36,
   "metadata": {},
   "outputs": [
    {
     "data": {
      "text/plain": [
       "1000.0"
      ]
     },
     "execution_count": 36,
     "metadata": {},
     "output_type": "execute_result"
    }
   ],
   "source": [
    "# notice the raise\n",
    "\n",
    "def expected_value(probability, reward):\n",
    "    \n",
    "    # let's check they're both numbers\n",
    "    \n",
    "    is_num = lambda x: type(x)==float or type(x)==int\n",
    "\n",
    "    if not is_num(probability)*is_num(reward):  # hopefully True * True\n",
    "        raise ValueError('Both arguments need to be numbers')\n",
    "        \n",
    "    try:\n",
    "        return probability*reward\n",
    "    \n",
    "    except Exception as e:\n",
    "        print e\n",
    "        \n",
    "expected_value(0.5, 2000)    "
   ]
  },
  {
   "cell_type": "code",
   "execution_count": 37,
   "metadata": {},
   "outputs": [
    {
     "ename": "ValueError",
     "evalue": "Both arguments need to be numbers",
     "output_type": "error",
     "traceback": [
      "\u001b[0;31m---------------------------------------------------------------------------\u001b[0m",
      "\u001b[0;31mValueError\u001b[0m                                Traceback (most recent call last)",
      "\u001b[0;32m<ipython-input-37-fa17e9fd9b1f>\u001b[0m in \u001b[0;36m<module>\u001b[0;34m()\u001b[0m\n\u001b[0;32m----> 1\u001b[0;31m \u001b[0mexpected_value\u001b[0m\u001b[0;34m(\u001b[0m\u001b[0;36m0.5\u001b[0m\u001b[0;34m,\u001b[0m \u001b[0;34m'2000'\u001b[0m\u001b[0;34m)\u001b[0m\u001b[0;34m\u001b[0m\u001b[0m\n\u001b[0m",
      "\u001b[0;32m<ipython-input-36-a5327dd4f826>\u001b[0m in \u001b[0;36mexpected_value\u001b[0;34m(probability, reward)\u001b[0m\n\u001b[1;32m      8\u001b[0m \u001b[0;34m\u001b[0m\u001b[0m\n\u001b[1;32m      9\u001b[0m     \u001b[0;32mif\u001b[0m \u001b[0;32mnot\u001b[0m \u001b[0mis_num\u001b[0m\u001b[0;34m(\u001b[0m\u001b[0mprobability\u001b[0m\u001b[0;34m)\u001b[0m\u001b[0;34m*\u001b[0m\u001b[0mis_num\u001b[0m\u001b[0;34m(\u001b[0m\u001b[0mreward\u001b[0m\u001b[0;34m)\u001b[0m\u001b[0;34m:\u001b[0m  \u001b[0;31m# hopefully True * True\u001b[0m\u001b[0;34m\u001b[0m\u001b[0m\n\u001b[0;32m---> 10\u001b[0;31m         \u001b[0;32mraise\u001b[0m \u001b[0mValueError\u001b[0m\u001b[0;34m(\u001b[0m\u001b[0;34m'Both arguments need to be numbers'\u001b[0m\u001b[0;34m)\u001b[0m\u001b[0;34m\u001b[0m\u001b[0m\n\u001b[0m\u001b[1;32m     11\u001b[0m \u001b[0;34m\u001b[0m\u001b[0m\n\u001b[1;32m     12\u001b[0m     \u001b[0;32mtry\u001b[0m\u001b[0;34m:\u001b[0m\u001b[0;34m\u001b[0m\u001b[0m\n",
      "\u001b[0;31mValueError\u001b[0m: Both arguments need to be numbers"
     ]
    }
   ],
   "source": [
    "expected_value(0.5, '2000')"
   ]
  },
  {
   "cell_type": "markdown",
   "metadata": {},
   "source": [
    "---\n",
    "### Iterators & Iterables\n",
    "> iterable is an object that can return an iterator, while an iterator is an object that keeps state and produces the next value when you call next() on it. _(DataCamp)_"
   ]
  },
  {
   "cell_type": "code",
   "execution_count": 51,
   "metadata": {},
   "outputs": [
    {
     "name": "stdout",
     "output_type": "stream",
     "text": [
      "h\n",
      "e\n",
      "['l', 'l', 'o', ' ', 'w', 'o', 'r', 'l', 'd', '!']\n"
     ]
    }
   ],
   "source": [
    "a = 'hello world!'\n",
    "\n",
    "it = iter(a)   # iter() docstring: Get an iterator from an object. \n",
    "\n",
    "print next(it)\n",
    "print next(it)\n",
    "print list(it)"
   ]
  },
  {
   "cell_type": "code",
   "execution_count": null,
   "metadata": {
    "collapsed": true
   },
   "outputs": [],
   "source": []
  },
  {
   "cell_type": "markdown",
   "metadata": {},
   "source": [
    "#### Powerset\n",
    "All possible combinations of items in a list, of all sizes. So, for example: <br>\n",
    "`[1,2,3]`  would give all combos of zero length, 1 length, 2 length, 3 length.\n",
    "\n",
    "Source for the code below: https://docs.python.org/2/library/itertools.html"
   ]
  },
  {
   "cell_type": "code",
   "execution_count": 1,
   "metadata": {},
   "outputs": [
    {
     "name": "stdout",
     "output_type": "stream",
     "text": [
      "[(), (1,), (2,), (3,), (1, 2), (1, 3), (2, 3), (1, 2, 3)]\n"
     ]
    }
   ],
   "source": [
    "from itertools import chain\n",
    "from itertools import combinations\n",
    "\n",
    "def powerset(iterable):\n",
    "    \"powerset([1,2,3]) --> () (1,) (2,) (3,) (1,2) (1,3) (2,3) (1,2,3)\"\n",
    "    s = list(iterable)\n",
    "    return chain.from_iterable(combinations(s, r) for r in range(len(s)+1))\n",
    "\n",
    "a = powerset([1,2,3])\n",
    "print list(a)"
   ]
  },
  {
   "cell_type": "code",
   "execution_count": null,
   "metadata": {},
   "outputs": [],
   "source": []
  },
  {
   "cell_type": "markdown",
   "metadata": {},
   "source": [
    "---\n",
    "### Conditionals in List Comprehension"
   ]
  },
  {
   "cell_type": "code",
   "execution_count": 57,
   "metadata": {},
   "outputs": [
    {
     "data": {
      "text/plain": [
       "[0, 3, 6, 9, 12]"
      ]
     },
     "execution_count": 57,
     "metadata": {},
     "output_type": "execute_result"
    }
   ],
   "source": [
    "[x for x in range(15) if x%3==0]"
   ]
  },
  {
   "cell_type": "code",
   "execution_count": 58,
   "metadata": {},
   "outputs": [
    {
     "name": "stdout",
     "output_type": "stream",
     "text": [
      "[True, False, False, True, False, False, True, False, False, True, False, False, True, False, False]\n"
     ]
    }
   ],
   "source": [
    "# with else\n",
    "print [True if x%3==0 else False for x in range(15)]"
   ]
  },
  {
   "cell_type": "markdown",
   "metadata": {},
   "source": [
    "#### Conditionals in Dicts"
   ]
  },
  {
   "cell_type": "code",
   "execution_count": 61,
   "metadata": {},
   "outputs": [
    {
     "data": {
      "text/plain": [
       "{0: 0.0,\n",
       " 1: 1.0,\n",
       " 2: 1.4142135623730951,\n",
       " 3: 1.7320508075688772,\n",
       " 4: 2.0,\n",
       " 5: 2.23606797749979,\n",
       " 6: 2.449489742783178,\n",
       " 7: 2.6457513110645907,\n",
       " 8: 2.8284271247461903,\n",
       " 9: 3.0}"
      ]
     },
     "execution_count": 61,
     "metadata": {},
     "output_type": "execute_result"
    }
   ],
   "source": [
    "from math import sqrt\n",
    "\n",
    "sqr_root = {x: sqrt(x) for x in range(10)}\n",
    "\n",
    "sqr_root"
   ]
  },
  {
   "cell_type": "markdown",
   "metadata": {},
   "source": [
    "---\n",
    "### Generators"
   ]
  },
  {
   "cell_type": "code",
   "execution_count": 62,
   "metadata": {},
   "outputs": [
    {
     "name": "stdout",
     "output_type": "stream",
     "text": [
      "list comprehension:\n"
     ]
    },
    {
     "data": {
      "text/plain": [
       "[0, 1, 4, 9, 16]"
      ]
     },
     "execution_count": 62,
     "metadata": {},
     "output_type": "execute_result"
    }
   ],
   "source": [
    "print 'list comprehension:'\n",
    "\n",
    "[x**2 for x in range(5)]"
   ]
  },
  {
   "cell_type": "code",
   "execution_count": 75,
   "metadata": {},
   "outputs": [
    {
     "name": "stdout",
     "output_type": "stream",
     "text": [
      "Generator - () instead of []:\n"
     ]
    },
    {
     "data": {
      "text/plain": [
       "<generator object <genexpr> at 0x10415d140>"
      ]
     },
     "execution_count": 75,
     "metadata": {},
     "output_type": "execute_result"
    }
   ],
   "source": [
    "print 'Generator - () instead of []:'\n",
    "\n",
    "(x**2 for x in range(5))"
   ]
  },
  {
   "cell_type": "markdown",
   "metadata": {},
   "source": [
    "Notice this returns a generator object. <br>\n",
    "A generator is like a list but it doesn't store the list in memory. We can iterate over it to produce the list as required."
   ]
  },
  {
   "cell_type": "code",
   "execution_count": 64,
   "metadata": {},
   "outputs": [
    {
     "name": "stdout",
     "output_type": "stream",
     "text": [
      "0\n",
      "1\n",
      "4\n",
      "9\n",
      "16\n"
     ]
    }
   ],
   "source": [
    "my_generator = (x**2 for x in range(5))\n",
    "\n",
    "for i in my_generator:\n",
    "    print i"
   ]
  },
  {
   "cell_type": "code",
   "execution_count": 67,
   "metadata": {},
   "outputs": [
    {
     "data": {
      "text/plain": [
       "[0, 1, 4, 9, 16]"
      ]
     },
     "execution_count": 67,
     "metadata": {},
     "output_type": "execute_result"
    }
   ],
   "source": [
    "my_generator = (x**2 for x in range(5))\n",
    "list(my_generator)"
   ]
  },
  {
   "cell_type": "markdown",
   "metadata": {},
   "source": [
    "**Lazy evaluation** - with next():"
   ]
  },
  {
   "cell_type": "code",
   "execution_count": 71,
   "metadata": {},
   "outputs": [
    {
     "data": {
      "text/plain": [
       "0"
      ]
     },
     "execution_count": 71,
     "metadata": {},
     "output_type": "execute_result"
    }
   ],
   "source": [
    "my_generator = (x**2 for x in range(5))\n",
    "\n",
    "next(my_generator)"
   ]
  },
  {
   "cell_type": "code",
   "execution_count": 72,
   "metadata": {},
   "outputs": [
    {
     "data": {
      "text/plain": [
       "1"
      ]
     },
     "execution_count": 72,
     "metadata": {},
     "output_type": "execute_result"
    }
   ],
   "source": [
    "next(my_generator)"
   ]
  },
  {
   "cell_type": "code",
   "execution_count": 73,
   "metadata": {},
   "outputs": [
    {
     "data": {
      "text/plain": [
       "[4, 9, 16]"
      ]
     },
     "execution_count": 73,
     "metadata": {},
     "output_type": "execute_result"
    }
   ],
   "source": [
    "list(my_generator)"
   ]
  },
  {
   "cell_type": "code",
   "execution_count": 77,
   "metadata": {},
   "outputs": [
    {
     "name": "stdout",
     "output_type": "stream",
     "text": [
      "0\n",
      "1\n",
      "4\n",
      "9\n",
      "16\n"
     ]
    }
   ],
   "source": [
    "my_generator = (x**2 for x in range(5))\n",
    "\n",
    "while True:\n",
    "    try:\n",
    "        print next(my_generator)\n",
    "        \n",
    "    except:\n",
    "        break"
   ]
  },
  {
   "cell_type": "markdown",
   "metadata": {},
   "source": [
    "#### Generator Functions\n",
    "Use _yield_ instead of return."
   ]
  },
  {
   "cell_type": "code",
   "execution_count": 84,
   "metadata": {},
   "outputs": [
    {
     "data": {
      "text/plain": [
       "<generator object get_sqr at 0x10415d500>"
      ]
     },
     "execution_count": 84,
     "metadata": {},
     "output_type": "execute_result"
    }
   ],
   "source": [
    "def get_sqr(n):\n",
    "    x = 0\n",
    "    while x <= n:\n",
    "        yield x**2\n",
    "        x+=1\n",
    "    \n",
    "my_gen = get_sqr(10)\n",
    "\n",
    "my_gen"
   ]
  },
  {
   "cell_type": "code",
   "execution_count": 85,
   "metadata": {},
   "outputs": [
    {
     "name": "stdout",
     "output_type": "stream",
     "text": [
      "0\n",
      "1\n",
      "4\n",
      "9\n",
      "16\n",
      "25\n",
      "36\n",
      "49\n",
      "64\n",
      "81\n",
      "100\n"
     ]
    }
   ],
   "source": [
    "while True:\n",
    "    try:\n",
    "        print next(my_gen)\n",
    "        \n",
    "    except:\n",
    "        break"
   ]
  },
  {
   "cell_type": "markdown",
   "metadata": {},
   "source": [
    "#### Read csv with chunksize - iterator"
   ]
  },
  {
   "cell_type": "code",
   "execution_count": 104,
   "metadata": {},
   "outputs": [
    {
     "name": "stdout",
     "output_type": "stream",
     "text": [
      "<class 'pandas.io.parsers.TextFileReader'>\n",
      "\r",
      "Now appending chunk  0 \r",
      "Now appending chunk  1 \r",
      "Now appending chunk  2 \r",
      "Now appending chunk  3 \r",
      "Now appending chunk  4 \r",
      "Now appending chunk  5 \r",
      "Now appending chunk  6 \r",
      "Now appending chunk  7 \r",
      "Now appending chunk  8 \r",
      "Now appending chunk  9 \r",
      "Now appending chunk  10 \r",
      "Now appending chunk  11 \r",
      "Now appending chunk  12 \r",
      "Now appending chunk  13 \r",
      "Now appending chunk  14 \r",
      "Now appending chunk  15 \r",
      "Now appending chunk  16 \r",
      "Now appending chunk  17 \r",
      "Now appending chunk  18 \r",
      "Now appending chunk  19 \r",
      "Now appending chunk  20 \r",
      "Now appending chunk  21 \r",
      "Now appending chunk  22 \n",
      "22\n",
      "(2117, 1)\n"
     ]
    },
    {
     "name": "stderr",
     "output_type": "stream",
     "text": [
      "Skipping line 36: expected 1 fields, saw 2\n",
      "Skipping line 76: expected 1 fields, saw 2\n",
      "Skipping line 114: expected 1 fields, saw 3\n",
      "Skipping line 124: expected 1 fields, saw 3\n",
      "Skipping line 128: expected 1 fields, saw 3\n",
      "Skipping line 133: expected 1 fields, saw 3\n",
      "Skipping line 138: expected 1 fields, saw 3\n",
      "Skipping line 142: expected 1 fields, saw 3\n",
      "Skipping line 172: expected 1 fields, saw 3\n",
      "Skipping line 174: expected 1 fields, saw 3\n",
      "\n",
      "Skipping line 229: expected 1 fields, saw 2\n",
      "\n",
      "Skipping line 2235: expected 1 fields, saw 2\n",
      "Skipping line 2236: expected 1 fields, saw 3\n",
      "Skipping line 2237: expected 1 fields, saw 3\n",
      "Skipping line 2238: expected 1 fields, saw 3\n",
      "Skipping line 2239: expected 1 fields, saw 3\n",
      "Skipping line 2240: expected 1 fields, saw 3\n",
      "Skipping line 2247: expected 1 fields, saw 3\n",
      "Skipping line 2248: expected 1 fields, saw 3\n",
      "Skipping line 2249: expected 1 fields, saw 3\n",
      "Skipping line 2250: expected 1 fields, saw 3\n",
      "Skipping line 2251: expected 1 fields, saw 3\n",
      "Skipping line 2252: expected 1 fields, saw 3\n",
      "\n"
     ]
    }
   ],
   "source": [
    "import pandas as pd\n",
    "\n",
    "url = 'https://github.com/justmarkham/DAT8/blob/master/data/drinks.csv'\n",
    "\n",
    "df = pd.read_csv(url, chunksize=100, error_bad_lines=False)\n",
    "\n",
    "print type(df)\n",
    "dfs = []\n",
    "c = 0\n",
    "while True:\n",
    "    try:\n",
    "        print '\\rNow appending chunk ', c,\n",
    "        dfs.append(next(df))\n",
    "        c+=1\n",
    "        \n",
    "    except:\n",
    "        break\n",
    "        \n",
    "print '\\n',len(dfs)\n",
    "\n",
    "full_df = pd.concat(dfs)\n",
    "\n",
    "print full_df.shape\n",
    "\n",
    "del dfs, full_df"
   ]
  },
  {
   "cell_type": "markdown",
   "metadata": {},
   "source": [
    "---\n",
    "### Read pickled files\n",
    "File type native to python. Pickled files are serialized, which means the contents were converted to bytestream."
   ]
  },
  {
   "cell_type": "code",
   "execution_count": null,
   "metadata": {
    "collapsed": true
   },
   "outputs": [],
   "source": [
    "import pickle\n",
    "\n",
    "with open('data.pkl', 'rb') as file:\n",
    "    data = pickle.load(file)"
   ]
  },
  {
   "cell_type": "markdown",
   "metadata": {},
   "source": [
    "---\n",
    "### Read HDF5 files\n",
    "Hierarchical Data Format ver. 5. <br>\n",
    "Becoming the standard for storing large quantities of numerical data. (gigabytes and terabytes are common, even exabytes are possible."
   ]
  },
  {
   "cell_type": "code",
   "execution_count": null,
   "metadata": {
    "collapsed": true
   },
   "outputs": [],
   "source": [
    "import h5py\n",
    "\n",
    "\n",
    "filename = 'somefile.hdf5'\n",
    "\n",
    "data = h5py.File(filename, 'r')\n",
    "\n",
    "print(type(data))\n",
    "\n",
    "for key in data.keys():\n",
    "    print(key)"
   ]
  },
  {
   "cell_type": "markdown",
   "metadata": {},
   "source": [
    "---\n",
    "### Sending emails with attachments\n",
    "\n",
    "Base on: https://stackoverflow.com/a/8243031/5056689 <br>\n",
    "with the following modifications:\n",
    "\n",
    "`s = smtplib.SMTP('smtp.gmail.com')`   **== TO ==>**   `s = smtplib.SMTP('smtp.gmail.com', 587)`\n",
    "\n",
    "also, add right after the above:<br>\n",
    "`s.ehlo()`\n",
    "\n",
    "\n"
   ]
  },
  {
   "cell_type": "markdown",
   "metadata": {},
   "source": [
    "---\n",
    "### Working with DataBases - SQLAlchemy"
   ]
  },
  {
   "cell_type": "code",
   "execution_count": null,
   "metadata": {
    "collapsed": true
   },
   "outputs": [],
   "source": [
    "from sqlalchemy import create_engine\n",
    "\n",
    "engine = create_engine('sqlite:///db_name.sqlite')\n",
    "\n",
    "conn = engine.connect() # params as needed\n",
    "\n",
    "rs = conn.execute('SELECT * FTOM tablename') # rs = results, for the results object returned\n",
    "\n",
    "# Query result to datafram. tags: sql to df, sql to pandas\n",
    "df = pd.DataFrame(rs.fetchall())  # instead of fetchall, you can pd.DataFrame(rs.fetchmany(size=10)) to fetch a subseta\n",
    "df.columns = rs.keys() # <-- !!, otherwise the df won't have proper column names\n",
    "\n",
    "# Don't forget:\n",
    "conn.close()"
   ]
  },
  {
   "cell_type": "code",
   "execution_count": null,
   "metadata": {
    "collapsed": true
   },
   "outputs": [],
   "source": [
    "# Alternatively:\n",
    "\n",
    "with engine.connect() as conn:\n",
    "    rs = conn.execute\n",
    "#    df = ... and so on"
   ]
  },
  {
   "cell_type": "markdown",
   "metadata": {},
   "source": [
    "Even better:"
   ]
  },
  {
   "cell_type": "code",
   "execution_count": null,
   "metadata": {
    "collapsed": true
   },
   "outputs": [],
   "source": [
    "engine = create_engine('sqlite:///db_name.sqlite')\n",
    "\n",
    "df = pd.read_sql_query('SELECT * FTOM tablename', engine)"
   ]
  },
  {
   "cell_type": "code",
   "execution_count": null,
   "metadata": {
    "collapsed": true
   },
   "outputs": [],
   "source": []
  },
  {
   "cell_type": "code",
   "execution_count": null,
   "metadata": {
    "collapsed": true
   },
   "outputs": [],
   "source": [
    "# Getting the table names\n",
    "table_names = engine.table_names()"
   ]
  },
  {
   "cell_type": "markdown",
   "metadata": {},
   "source": [
    "---\n",
    "### Reading Files From Folder\n",
    "Requires:\n",
    "+ os\n",
    "+ glob (for the last one)\n",
    "A note about glob from [PyMOTW](https://pymotw.com/2/glob/):\n",
    "> Even though the glob API is very simple, the module packs a lot of power. It is useful in any situation where your program needs to look for a list of files on the filesystem with names matching a pattern. If you need a list of filenames that all have a certain extension, prefix, or any common string in the middle, use glob instead of writing code to scan the directory contents yourself."
   ]
  },
  {
   "cell_type": "code",
   "execution_count": 107,
   "metadata": {},
   "outputs": [],
   "source": [
    "# gets the first file in the folder\n",
    "filename = os.listdir(folder_name)[0]\n",
    "\n",
    "# likewise, but filters out hidden files (they start with '.')\n",
    "filename = filter(lambda f: not f.startswith('.'), os.listdir(folder_name))[0]\n",
    "\n",
    "# Gets the most recently created file.\n",
    "# requires glob (included in python)\n",
    "filename = max(glob.iglob(dl_path+'*.xls'), key=os.path.getctime)"
   ]
  },
  {
   "cell_type": "markdown",
   "metadata": {},
   "source": [
    "---\n",
    "### placeholder"
   ]
  },
  {
   "cell_type": "code",
   "execution_count": null,
   "metadata": {
    "collapsed": true
   },
   "outputs": [],
   "source": []
  },
  {
   "cell_type": "code",
   "execution_count": null,
   "metadata": {
    "collapsed": true
   },
   "outputs": [],
   "source": []
  },
  {
   "cell_type": "markdown",
   "metadata": {},
   "source": [
    "---\n",
    "\n",
    "## Pandas Snippets"
   ]
  },
  {
   "cell_type": "markdown",
   "metadata": {},
   "source": [
    "json to DF"
   ]
  },
  {
   "cell_type": "code",
   "execution_count": null,
   "metadata": {
    "collapsed": true
   },
   "outputs": [],
   "source": [
    "# might require importing json module in addition to pandas\n",
    "df = pd.io.json.json_normalize(json_data['data'])"
   ]
  },
  {
   "cell_type": "code",
   "execution_count": null,
   "metadata": {
    "collapsed": true
   },
   "outputs": [],
   "source": []
  },
  {
   "cell_type": "markdown",
   "metadata": {},
   "source": [
    "---\n",
    "## Jupyter Snippets"
   ]
  },
  {
   "cell_type": "markdown",
   "metadata": {},
   "source": [
    "#### Magic command - Explore/dir the current working directory"
   ]
  },
  {
   "cell_type": "code",
   "execution_count": null,
   "metadata": {
    "collapsed": true
   },
   "outputs": [],
   "source": [
    "! ls"
   ]
  },
  {
   "cell_type": "markdown",
   "metadata": {},
   "source": [
    "#### Showing Images"
   ]
  },
  {
   "cell_type": "code",
   "execution_count": 1,
   "metadata": {
    "collapsed": true
   },
   "outputs": [],
   "source": [
    "from IPython.display import Image"
   ]
  },
  {
   "cell_type": "code",
   "execution_count": null,
   "metadata": {
    "collapsed": true
   },
   "outputs": [],
   "source": [
    "# When in markdown:\n",
    "\n",
    "![alt name](images/file_name.png)"
   ]
  },
  {
   "cell_type": "code",
   "execution_count": null,
   "metadata": {
    "collapsed": true
   },
   "outputs": [],
   "source": []
  }
 ],
 "metadata": {
  "anaconda-cloud": {},
  "kernelspec": {
   "display_name": "Python [default]",
   "language": "python",
   "name": "python2"
  },
  "language_info": {
   "codemirror_mode": {
    "name": "ipython",
    "version": 2
   },
   "file_extension": ".py",
   "mimetype": "text/x-python",
   "name": "python",
   "nbconvert_exporter": "python",
   "pygments_lexer": "ipython2",
   "version": "2.7.14"
  }
 },
 "nbformat": 4,
 "nbformat_minor": 1
}
